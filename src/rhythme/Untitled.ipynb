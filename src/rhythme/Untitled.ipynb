{
 "cells": [
  {
   "cell_type": "code",
   "execution_count": 8,
   "id": "5a1c989a-4a2b-4b39-9067-94347fc3bcd4",
   "metadata": {},
   "outputs": [
    {
     "name": "stdout",
     "output_type": "stream",
     "text": [
      "65=C1\n",
      "66=C2\n",
      "67=C3\n",
      "68=C4\n",
      "69=C5\n",
      "70=C6\n",
      "71=C7\n",
      "72=C8\n",
      "73=C9\n",
      "74=C10\n",
      "75=C11\n",
      "76=C12\n",
      "77=C13\n",
      "78=C14\n",
      "79=C15\n",
      "80=C16\n",
      "81=C17\n",
      "82=C18\n",
      "83=C19\n",
      "84=C20\n",
      "85=C21\n",
      "86=C22\n",
      "87=C23\n",
      "88=C24\n",
      "89=C25\n",
      "90=C26\n",
      "91=C27\n",
      "92=C28\n",
      "93=C29\n",
      "94=C30\n",
      "95=C31\n",
      "96=C32\n",
      "97=D1\n",
      "98=D2\n",
      "99=D3\n",
      "100=D4\n",
      "101=D5\n",
      "102=D6\n",
      "103=D7\n",
      "104=D8\n",
      "105=D9\n",
      "106=D10\n",
      "107=D11\n",
      "108=D12\n",
      "109=D13\n",
      "110=D14\n",
      "111=D15\n",
      "112=D16\n",
      "113=D17\n",
      "114=D18\n",
      "115=D19\n",
      "116=D20\n",
      "117=D21\n",
      "118=D22\n",
      "119=D23\n",
      "120=D24\n",
      "121=D25\n",
      "122=D26\n",
      "123=D27\n",
      "124=D28\n",
      "125=D29\n",
      "126=D30\n",
      "127=D31\n",
      "128=D32\n"
     ]
    }
   ],
   "source": [
    "li = []\n",
    "for i in range(65,65+32):\n",
    "    li.append(f\"{i}=C{i-64}\")\n",
    "for i in range(97,97+32):\n",
    "    li.append(f\"{i}=D{i-96}\")\n",
    "for n in li:\n",
    "    print(n)"
   ]
  },
  {
   "cell_type": "code",
   "execution_count": null,
   "id": "b44e10bc-271a-4d5d-99e5-4e4597bc71d5",
   "metadata": {},
   "outputs": [],
   "source": []
  }
 ],
 "metadata": {
  "kernelspec": {
   "display_name": "Python 3 (ipykernel)",
   "language": "python",
   "name": "python3"
  },
  "language_info": {
   "codemirror_mode": {
    "name": "ipython",
    "version": 3
   },
   "file_extension": ".py",
   "mimetype": "text/x-python",
   "name": "python",
   "nbconvert_exporter": "python",
   "pygments_lexer": "ipython3",
   "version": "3.9.12"
  }
 },
 "nbformat": 4,
 "nbformat_minor": 5
}
