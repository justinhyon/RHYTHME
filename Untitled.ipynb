{
 "cells": [
  {
   "cell_type": "markdown",
   "id": "e7d1327b-dc4b-4c63-b920-246e8472cc61",
   "metadata": {},
   "source": [
    "# Do it Yourself Exercise 1"
   ]
  },
  {
   "cell_type": "markdown",
   "id": "c8ad3f29-3243-4aeb-b46d-f1ea34597d66",
   "metadata": {},
   "source": [
    "### Schematic"
   ]
  },
  {
   "cell_type": "code",
   "execution_count": null,
   "id": "24dede2e-5941-42f3-bf45-415a4e3a71f3",
   "metadata": {},
   "outputs": [],
   "source": []
  }
 ],
 "metadata": {
  "kernelspec": {
   "display_name": "Python 3 (ipykernel)",
   "language": "python",
   "name": "python3"
  },
  "language_info": {
   "codemirror_mode": {
    "name": "ipython",
    "version": 3
   },
   "file_extension": ".py",
   "mimetype": "text/x-python",
   "name": "python",
   "nbconvert_exporter": "python",
   "pygments_lexer": "ipython3",
   "version": "3.9.7"
  }
 },
 "nbformat": 4,
 "nbformat_minor": 5
}
